{
 "cells": [
  {
   "cell_type": "markdown",
   "metadata": {},
   "source": [
    "# 1.csv파일 읽어와서 시트에 넣을 index 지정해주기"
   ]
  },
  {
   "cell_type": "code",
   "execution_count": 2,
   "metadata": {},
   "outputs": [
    {
     "name": "stdout",
     "output_type": "stream",
     "text": [
      "i포문 ['2021/02/18 1:22:01 오후 GMT+9', '김동권', '10:00;11:00;12:00', '13:00', '14:00', '12:00;13:00;14:00;15:00;16:00;17:00', '금요일 불가능']\n",
      "김동권 B2\n",
      "김동권 B3\n",
      "김동권 B4\n",
      "김동권 C5\n",
      "김동권 D6\n",
      "김동권 E4\n",
      "김동권 E5\n",
      "김동권 E6\n",
      "김동권 E7\n",
      "김동권 E8\n",
      "김동권 E9\n",
      "김동권 F100\n",
      "----------------------------------------------------------------------------\n",
      "i포문 ['2021/02/18 1:22:17 오후 GMT+9', '박이슬', '12:00', '화요일 불가능', '수요일 불가능', '10:00;11:00;12:00;13:00', '17:00']\n",
      "박이슬 B4\n",
      "박이슬 C100\n",
      "박이슬 D100\n",
      "박이슬 E2\n",
      "박이슬 E3\n",
      "박이슬 E4\n",
      "박이슬 E5\n",
      "박이슬 F9\n",
      "----------------------------------------------------------------------------\n",
      "i포문 ['2021/02/18 1:22:29 오후 GMT+9', '백선영', '10:00', '화요일 불가능', '수요일 불가능', '13:00;14:00', '금요일 불가능']\n",
      "백선영 B2\n",
      "백선영 C100\n",
      "백선영 D100\n",
      "백선영 E5\n",
      "백선영 E6\n",
      "백선영 F100\n",
      "----------------------------------------------------------------------------\n",
      "i포문 ['2021/02/18 1:22:45 오후 GMT+9', '최혁태', '월요일 불가능', '11:00;13:00', '10:00', '목요일 불가능', '금요일 불가능']\n",
      "최혁태 B100\n",
      "최혁태 C3\n",
      "최혁태 C5\n",
      "최혁태 D2\n",
      "최혁태 E100\n",
      "최혁태 F100\n",
      "----------------------------------------------------------------------------\n",
      "i포문 ['2021/02/19 3:59:29 오후 GMT+9', 'name', '14:00;16:00', '15:00;16:00;17:00', '12:00;16:00', '목요일 불가능', '10:00;11:00;12:00;15:00']\n",
      "name B6\n",
      "name B8\n",
      "name C7\n",
      "name C8\n",
      "name C9\n",
      "name D4\n",
      "name D8\n",
      "name E100\n",
      "name F2\n",
      "name F3\n",
      "name F4\n",
      "name F7\n",
      "----------------------------------------------------------------------------\n"
     ]
    }
   ],
   "source": [
    "import csv\n",
    "import gspread\n",
    "from oauth2client.service_account import ServiceAccountCredentials\n",
    "\n",
    " \n",
    "    \n",
    "f = open('form2.csv','r')\n",
    "rdr = csv.reader(f)\n",
    "\n",
    "\n",
    "lines = []\n",
    "\n",
    "for line in rdr:\n",
    "#     print(line)\n",
    "    lines.append(line)\n",
    "    \n",
    "day = ['','','B', 'C', 'D', 'E', 'F']\n",
    "# day = {'':'', '':'', '월':'B', '화':'C', '수':'D', '목':'E', '금':'F'}\n",
    "time = {'10:00':'2', '11:00':'3', '12:00':'4', '13:00':'5', '14:00':'6', '15:00':'7', '16:00':'8', '17:00':'9', 'X':'100'}      \n",
    "    \n",
    "location = \"\"\n",
    "    \n",
    "for i in range(1, len(lines)):\n",
    "    print(\"i포문\", lines[i])\n",
    "    for j in range(len(lines[i])):\n",
    "        if('불가능' in lines[i][j]):\n",
    "            lines[i][j] = 'X'\n",
    "    \n",
    "    \n",
    "    for j in range(2, len(lines[i])):\n",
    "        tmp = lines[i][j].split(\";\")\n",
    "#         print(\"j포문\", j, tmp, day[j])\n",
    "        \n",
    "        locations_list = []\n",
    "        \n",
    "        for k in tmp:\n",
    "            location = day[j] + time[k]\n",
    "            locations_list.append(location)\n",
    "#         print(locations_list)\n",
    "        \n",
    "        for m in locations_list:\n",
    "            print(lines[i][1], m)\n",
    "            \n",
    "    print(\"----------------------------------------------------------------------------\")\n",
    "    \n",
    "    \n",
    "\n",
    "    \n",
    "    \n",
    "\n",
    "    \n",
    "\n",
    "f.close()"
   ]
  },
  {
   "cell_type": "code",
   "execution_count": null,
   "metadata": {},
   "outputs": [],
   "source": []
  },
  {
   "cell_type": "code",
   "execution_count": null,
   "metadata": {},
   "outputs": [],
   "source": []
  },
  {
   "cell_type": "code",
   "execution_count": null,
   "metadata": {},
   "outputs": [],
   "source": []
  },
  {
   "cell_type": "markdown",
   "metadata": {},
   "source": [
    "# 2.스프레드 시트 열고 쓰기"
   ]
  },
  {
   "cell_type": "code",
   "execution_count": 137,
   "metadata": {},
   "outputs": [],
   "source": [
    "import gspread\n",
    "from oauth2client.service_account import ServiceAccountCredentials"
   ]
  },
  {
   "cell_type": "code",
   "execution_count": 138,
   "metadata": {},
   "outputs": [],
   "source": [
    "# scope = ['https://spreadsheets.google.com/feeds']\n",
    "scope = ['https://spreadsheets.google.com/feeds',\n",
    "         'https://www.googleapis.com/auth/drive']\n",
    "json_file_name = 'cred.json'\n",
    "credentials = ServiceAccountCredentials.from_json_keyfile_name(json_file_name, scope)\n",
    "gc = gspread.authorize(credentials)\n",
    "spreadsheet_url = 'https://docs.google.com/spreadsheets/d/1HEaNBh5MVpPNlP__qMId98PhigiJqSiO7ezXONuO5uY/edit?usp=sharing'    "
   ]
  },
  {
   "cell_type": "code",
   "execution_count": 139,
   "metadata": {},
   "outputs": [],
   "source": [
    "# 문서 불러오기\n",
    "doc = gc.open_by_url(spreadsheet_url)\n",
    "# a 시트 불러오기\n",
    "# worksheet = doc.worksheet('시트1')\n",
    "spreadsheets = [spreadsheet.get_all_values() for spreadsheet in doc.worksheets()]"
   ]
  },
  {
   "cell_type": "code",
   "execution_count": 11,
   "metadata": {},
   "outputs": [],
   "source": [
    "cell_data = worksheet.acell('B2').value"
   ]
  },
  {
   "cell_type": "code",
   "execution_count": 15,
   "metadata": {},
   "outputs": [
    {
     "data": {
      "text/plain": [
       "{'spreadsheetId': '1HEaNBh5MVpPNlP__qMId98PhigiJqSiO7ezXONuO5uY',\n",
       " 'updatedRange': \"'시트1'!B1\",\n",
       " 'updatedRows': 1,\n",
       " 'updatedColumns': 1,\n",
       " 'updatedCells': 1}"
      ]
     },
     "execution_count": 15,
     "metadata": {},
     "output_type": "execute_result"
    }
   ],
   "source": [
    "worksheet.update_acell('B1', '월')"
   ]
  },
  {
   "cell_type": "code",
   "execution_count": null,
   "metadata": {},
   "outputs": [],
   "source": []
  },
  {
   "cell_type": "code",
   "execution_count": null,
   "metadata": {},
   "outputs": [],
   "source": []
  },
  {
   "cell_type": "markdown",
   "metadata": {},
   "source": [
    "# 3. 코드 테스트"
   ]
  },
  {
   "cell_type": "code",
   "execution_count": 207,
   "metadata": {},
   "outputs": [],
   "source": [
    "# 필요한 모듈 import\n",
    "import csv\n",
    "import gspread\n",
    "from oauth2client.service_account import ServiceAccountCredentials"
   ]
  },
  {
   "cell_type": "code",
   "execution_count": 208,
   "metadata": {},
   "outputs": [],
   "source": [
    "# permission error 방지\n",
    "scope = ['https://spreadsheets.google.com/feeds',\n",
    "         'https://www.googleapis.com/auth/drive']\n",
    "json_file_name = 'cred.json'\n",
    "credentials = ServiceAccountCredentials.from_json_keyfile_name(json_file_name, scope)\n",
    "gc = gspread.authorize(credentials)\n",
    "spreadsheet_url = 'https://docs.google.com/spreadsheets/d/1HEaNBh5MVpPNlP__qMId98PhigiJqSiO7ezXONuO5uY/edit?usp=sharing'      "
   ]
  },
  {
   "cell_type": "code",
   "execution_count": 209,
   "metadata": {},
   "outputs": [],
   "source": [
    "# 문서 불러오기\n",
    "doc = gc.open_by_url(spreadsheet_url)\n",
    "# a 시트 불러오기\n",
    "worksheet = doc.worksheet('시트1')\n",
    "# spreadsheets = [spreadsheet.get_all_values() for spreadsheet in doc.worksheets()]"
   ]
  },
  {
   "cell_type": "code",
   "execution_count": 210,
   "metadata": {},
   "outputs": [],
   "source": [
    "# csv파일 읽어와서 list에 저장\n",
    "f = open('aaa.csv','r')\n",
    "rdr = csv.reader(f)\n",
    "\n",
    "lines = []\n",
    "\n",
    "for line in rdr:\n",
    "#     print(line)\n",
    "    lines.append(line)"
   ]
  },
  {
   "cell_type": "code",
   "execution_count": 211,
   "metadata": {},
   "outputs": [],
   "source": [
    "day = ['','','B', 'C', 'D', 'E', 'F'] \n",
    "time = {'10:00':'2', '11:00':'3', '12:00':'4', '13:00':'5', '14:00':'6', '15:00':'7', '16:00':'8', '17:00':'9', 'X':'15'}      \n",
    "    \n",
    "location = \"\"\n",
    "row = 0\n",
    "col = 0\n",
    "\n",
    "\n",
    "blank = ' '"
   ]
  },
  {
   "cell_type": "code",
   "execution_count": 212,
   "metadata": {},
   "outputs": [
    {
     "name": "stdout",
     "output_type": "stream",
     "text": [
      "['2021/02/18 1:22:01 오후 GMT+9', '김김김', '10:00;11:00;12:00', '13:00', '14:00', '12:00;13:00;14:00;15:00;16:00;17:00', '금요일 불가능']\n",
      "----------------------------------------------------------------------------\n",
      "['2021/02/18 1:22:17 오후 GMT+9', '이이이', '12:00', '화요일 불가능', '수요일 불가능', '10:00;11:00;12:00;13:00', '17:00']\n",
      "----------------------------------------------------------------------------\n",
      "['2021/02/18 1:22:29 오후 GMT+9', '박박박', '10:00', '화요일 불가능', '수요일 불가능', '13:00;14:00', '금요일 불가능']\n",
      "----------------------------------------------------------------------------\n",
      "['2021/02/18 1:22:45 오후 GMT+9', '최최최', '월요일 불가능', '11:00;13:00', '10:00', '목요일 불가능', '금요일 불가능']\n",
      "----------------------------------------------------------------------------\n",
      "['2021/02/19 3:59:29 오후 GMT+9', 'name', '14:00;16:00', '15:00;16:00;17:00', '12:00;16:00', '목요일 불가능', '10:00;11:00;12:00;15:00']\n",
      "----------------------------------------------------------------------------\n",
      "['2021/02/19 4:35:42 오후 GMT+9', '제라드', '11:00;12:00;13:00;14:00;15:00;16:00', '13:00;14:00;15:00;16:00', '13:00;14:00;15:00;16:00', '목요일 불가능', '금요일 불가능']\n",
      "----------------------------------------------------------------------------\n",
      "['2021/02/19 4:36:07 오후 GMT+9', '만만킹3', '월요일 불가능', '12:00', '12:00', '13:00', '16:00']\n",
      "----------------------------------------------------------------------------\n"
     ]
    }
   ],
   "source": [
    "sheets = [[' ' for col in range(5)] for row in range(15)] #시트에 넣기 위한 이차원배열 선언\n",
    "\n",
    "for i in range(1, len(lines)):\n",
    "    print(lines[i])\n",
    "    for j in range(len(lines[i])):\n",
    "        if('불가능' in lines[i][j]):\n",
    "            lines[i][j] = 'X'\n",
    "    \n",
    "    \n",
    "    for j in range(2, len(lines[i])):  #월~금 도는 for문\n",
    "        tmp = lines[i][j].split(\";\")\n",
    "#         print(\"j포문\", tmp, day[j])\n",
    "        \n",
    "        locations_list = []\n",
    "        \n",
    "        for k in tmp:\n",
    "            location = day[j] + time[k]\n",
    "            locations_list.append(location)\n",
    "            \n",
    "            row = int(time[k]) - 2\n",
    "            col = j-2\n",
    "#             print(\"row:\", row, \"col:\",col)\n",
    "            sheets[row][col] = sheets[row][col] + blank + lines[i][1]\n",
    "\n",
    "        \n",
    "        \n",
    "#         name = ''\n",
    "#         update_location = ''\n",
    "#         for m in locations_list:\n",
    "#             name = lines[i][1]\n",
    "#             update_location = m\n",
    "#             print(lines[i][1], m)\n",
    "            \n",
    "            \n",
    "            \n",
    "        \n",
    "#         worksheet.update_acell(update_location, name)\n",
    "            \n",
    "    print(\"----------------------------------------------------------------------------\")"
   ]
  },
  {
   "cell_type": "code",
   "execution_count": 213,
   "metadata": {},
   "outputs": [
    {
     "name": "stdout",
     "output_type": "stream",
     "text": [
      "[' ', ' ', ' ', ' ', ' ']\n",
      "['  최최최 만만킹3', '  이이이 박박박', '  이이이 박박박', '  최최최 name 제라드', '  김김김 박박박 최최최 제라드']\n",
      "[' ', ' ', ' ', ' ', ' ']\n",
      "[' ', ' ', ' ', ' ', ' ']\n",
      "[' ', ' ', ' ', ' ', ' ']\n",
      "[' ', ' ', ' ', ' ', ' ']\n",
      "[' ', ' ', ' ', ' ', ' ']\n",
      "[' ', '  name', ' ', '  김김김', '  이이이']\n",
      "['  name 제라드', '  name 제라드', '  name 제라드', '  김김김', '  만만킹3']\n",
      "['  제라드', '  name 제라드', '  제라드', '  김김김', '  name']\n",
      "['  name 제라드', '  제라드', '  김김김 제라드', '  김김김 박박박', ' ']\n",
      "['  제라드', '  김김김 최최최 제라드', '  제라드', '  김김김 이이이 박박박 만만킹3', ' ']\n",
      "['  김김김 이이이 제라드', '  만만킹3', '  name 만만킹3', '  김김김 이이이', '  name']\n",
      "['  김김김 제라드', '  최최최', ' ', '  이이이', '  name']\n",
      "['  김김김 박박박', ' ', '  최최최', '  이이이', '  name']\n"
     ]
    }
   ],
   "source": [
    "# 시트에 들어가는 순서는 index == -1부터 차례로 들어가기 때문에 리스트 순서를 거꾸로 바꿈\n",
    "sheets.reverse()\n",
    "for i in sheets:\n",
    "    print(i)"
   ]
  },
  {
   "cell_type": "code",
   "execution_count": 214,
   "metadata": {},
   "outputs": [],
   "source": [
    "# 시트에 추가하기\n",
    "for i in sheets:\n",
    "    worksheet.insert_row(i, 2, 2)"
   ]
  },
  {
   "cell_type": "code",
   "execution_count": null,
   "metadata": {},
   "outputs": [],
   "source": []
  }
 ],
 "metadata": {
  "kernelspec": {
   "display_name": "Python 3",
   "language": "python",
   "name": "python3"
  },
  "language_info": {
   "codemirror_mode": {
    "name": "ipython",
    "version": 3
   },
   "file_extension": ".py",
   "mimetype": "text/x-python",
   "name": "python",
   "nbconvert_exporter": "python",
   "pygments_lexer": "ipython3",
   "version": "3.9.1"
  }
 },
 "nbformat": 4,
 "nbformat_minor": 4
}
